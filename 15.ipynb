{
  "nbformat": 4,
  "nbformat_minor": 0,
  "metadata": {
    "colab": {
      "name": "15.ipynb",
      "provenance": [],
      "authorship_tag": "ABX9TyNzLeBn7i3jNwaj6bIWpKJw",
      "include_colab_link": true
    },
    "kernelspec": {
      "name": "python3",
      "display_name": "Python 3"
    }
  },
  "cells": [
    {
      "cell_type": "markdown",
      "metadata": {
        "id": "view-in-github",
        "colab_type": "text"
      },
      "source": [
        "<a href=\"https://colab.research.google.com/github/sen-com/NLP-100-knokes-cp2/blob/main/15.ipynb\" target=\"_parent\"><img src=\"https://colab.research.google.com/assets/colab-badge.svg\" alt=\"Open In Colab\"/></a>"
      ]
    },
    {
      "cell_type": "code",
      "metadata": {
        "id": "nn-oFF5e5gF8",
        "outputId": "60a5c35c-2a33-4e77-8aa1-a85e47da2b31",
        "colab": {
          "base_uri": "https://localhost:8080/"
        }
      },
      "source": [
        "# 自然数Nをコマンドライン引数などの手段で受け取り，入力のうち末尾のN行だけを表示せよ．確認にはtailコマンドを用いよ．\n",
        "!wget https://nlp100.github.io/data/popular-names.txt"
      ],
      "execution_count": 1,
      "outputs": [
        {
          "output_type": "stream",
          "text": [
            "--2020-11-09 08:47:45--  https://nlp100.github.io/data/popular-names.txt\n",
            "Resolving nlp100.github.io (nlp100.github.io)... 185.199.109.153, 185.199.108.153, 185.199.110.153, ...\n",
            "Connecting to nlp100.github.io (nlp100.github.io)|185.199.109.153|:443... connected.\n",
            "HTTP request sent, awaiting response... 200 OK\n",
            "Length: 55026 (54K) [text/plain]\n",
            "Saving to: ‘popular-names.txt’\n",
            "\n",
            "popular-names.txt   100%[===================>]  53.74K  --.-KB/s    in 0.03s   \n",
            "\n",
            "2020-11-09 08:47:45 (1.98 MB/s) - ‘popular-names.txt’ saved [55026/55026]\n",
            "\n"
          ],
          "name": "stdout"
        }
      ]
    },
    {
      "cell_type": "code",
      "metadata": {
        "id": "fLgQdFUrKowm"
      },
      "source": [
        "import pandas as pd\n",
        "\n",
        "df = pd.read_table('popular-names.txt', header=None, sep='\\t', names=['name', 'sex', 'number', 'year'])"
      ],
      "execution_count": 2,
      "outputs": []
    },
    {
      "cell_type": "code",
      "metadata": {
        "id": "kYUvvd1ULIsE"
      },
      "source": [
        "def output_head(N):\n",
        "  print(df.head(N))\n",
        "\n",
        "def output_tail(N):\n",
        "  print(df.tail(N))"
      ],
      "execution_count": 3,
      "outputs": []
    },
    {
      "cell_type": "code",
      "metadata": {
        "id": "R3CVJrR-LftR",
        "outputId": "bc24c570-a593-4d8f-f114-adace7a34c5b",
        "colab": {
          "base_uri": "https://localhost:8080/"
        }
      },
      "source": [
        "output_tail(5)"
      ],
      "execution_count": 4,
      "outputs": [
        {
          "output_type": "stream",
          "text": [
            "          name sex  number  year\n",
            "2775  Benjamin   M   13381  2018\n",
            "2776    Elijah   M   12886  2018\n",
            "2777     Lucas   M   12585  2018\n",
            "2778     Mason   M   12435  2018\n",
            "2779     Logan   M   12352  2018\n"
          ],
          "name": "stdout"
        }
      ]
    },
    {
      "cell_type": "code",
      "metadata": {
        "id": "Z_qUlOJ5Mj0p",
        "outputId": "9750bbba-9f9f-4fd3-d1f1-0383adca1801",
        "colab": {
          "base_uri": "https://localhost:8080/"
        }
      },
      "source": [
        "!tail -n 5 ./popular-names.txt"
      ],
      "execution_count": 5,
      "outputs": [
        {
          "output_type": "stream",
          "text": [
            "Benjamin\tM\t13381\t2018\n",
            "Elijah\tM\t12886\t2018\n",
            "Lucas\tM\t12585\t2018\n",
            "Mason\tM\t12435\t2018\n",
            "Logan\tM\t12352\t2018\n"
          ],
          "name": "stdout"
        }
      ]
    },
    {
      "cell_type": "code",
      "metadata": {
        "id": "Qwt0RuMHNQBQ",
        "outputId": "cb343481-2c00-4a02-b26a-910a864e8dd1",
        "colab": {
          "base_uri": "https://localhost:8080/"
        }
      },
      "source": [
        "n=5\n",
        "with open('popular-names.txt') as file:\n",
        "  lines = file.readlines()\n",
        "\n",
        "  for line in lines[-n:]:\n",
        "    print(line.rstrip())"
      ],
      "execution_count": 7,
      "outputs": [
        {
          "output_type": "stream",
          "text": [
            "Benjamin\tM\t13381\t2018\n",
            "Elijah\tM\t12886\t2018\n",
            "Lucas\tM\t12585\t2018\n",
            "Mason\tM\t12435\t2018\n",
            "Logan\tM\t12352\t2018\n"
          ],
          "name": "stdout"
        }
      ]
    },
    {
      "cell_type": "code",
      "metadata": {
        "id": "I6O4u4l9Nt0D",
        "outputId": "ff66dff7-5af9-47e5-d5b8-86f1ce0371ff",
        "colab": {
          "base_uri": "https://localhost:8080/"
        }
      },
      "source": [
        "!tail --lines=5 popular-names.txt"
      ],
      "execution_count": 8,
      "outputs": [
        {
          "output_type": "stream",
          "text": [
            "Benjamin\tM\t13381\t2018\n",
            "Elijah\tM\t12886\t2018\n",
            "Lucas\tM\t12585\t2018\n",
            "Mason\tM\t12435\t2018\n",
            "Logan\tM\t12352\t2018\n"
          ],
          "name": "stdout"
        }
      ]
    }
  ]
}