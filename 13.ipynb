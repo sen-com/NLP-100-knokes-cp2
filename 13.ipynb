{
  "nbformat": 4,
  "nbformat_minor": 0,
  "metadata": {
    "colab": {
      "name": "13.ipynb",
      "provenance": [],
      "authorship_tag": "ABX9TyMLm5BaFScqJS5CZc1oSmzn",
      "include_colab_link": true
    },
    "kernelspec": {
      "name": "python3",
      "display_name": "Python 3"
    }
  },
  "cells": [
    {
      "cell_type": "markdown",
      "metadata": {
        "id": "view-in-github",
        "colab_type": "text"
      },
      "source": [
        "<a href=\"https://colab.research.google.com/github/sen-com/NLP-100-knokes-cp2/blob/main/13.ipynb\" target=\"_parent\"><img src=\"https://colab.research.google.com/assets/colab-badge.svg\" alt=\"Open In Colab\"/></a>"
      ]
    },
    {
      "cell_type": "code",
      "metadata": {
        "id": "nn-oFF5e5gF8",
        "outputId": "0b769cd4-5ff3-4831-a2f2-3f5ccb0453bb",
        "colab": {
          "base_uri": "https://localhost:8080/"
        }
      },
      "source": [
        "# 12で作ったcol1.txtとcol2.txtを結合し，元のファイルの1列目と2列目をタブ区切りで並べたテキストファイルを作成せよ．確認にはpasteコマンドを用いよ．\n",
        "!wget https://nlp100.github.io/data/popular-names.txt"
      ],
      "execution_count": 1,
      "outputs": [
        {
          "output_type": "stream",
          "text": [
            "--2020-11-09 08:01:35--  https://nlp100.github.io/data/popular-names.txt\n",
            "Resolving nlp100.github.io (nlp100.github.io)... 185.199.110.153, 185.199.111.153, 185.199.108.153, ...\n",
            "Connecting to nlp100.github.io (nlp100.github.io)|185.199.110.153|:443... connected.\n",
            "HTTP request sent, awaiting response... 200 OK\n",
            "Length: 55026 (54K) [text/plain]\n",
            "Saving to: ‘popular-names.txt’\n",
            "\n",
            "popular-names.txt   100%[===================>]  53.74K  --.-KB/s    in 0.03s   \n",
            "\n",
            "2020-11-09 08:01:35 (1.88 MB/s) - ‘popular-names.txt’ saved [55026/55026]\n",
            "\n"
          ],
          "name": "stdout"
        }
      ]
    },
    {
      "cell_type": "code",
      "metadata": {
        "id": "hZnFG9sN53HQ"
      },
      "source": [
        "with open('popular-names.txt') as file, \\\n",
        "  open('col1.txt', mode='w') as col1_file, \\\n",
        "  open('col2.txt', mode='w') as col2_file:\n",
        "  for lines in file:\n",
        "    cols = lines.split('\\t')\n",
        "    col1_file.write(cols[0] + '\\n')\n",
        "    col2_file.write(cols[1] + '\\n')"
      ],
      "execution_count": 4,
      "outputs": []
    },
    {
      "cell_type": "code",
      "metadata": {
        "id": "WBCWeZPHBuPO"
      },
      "source": [
        "with open('col1.txt', mode='r') as col1_file, open('col2.txt', mode='r') as col2_file, open('marge_1_2_file.txt', mode='w') as marge_1_2_file:\n",
        "     for col1_line, col2_line in zip(col1_file, col2_file):\n",
        "       marge_1_2_file.write(col1_line.rstrip() + '\\t' + col2_line.rstrip() + '\\n')"
      ],
      "execution_count": 7,
      "outputs": []
    },
    {
      "cell_type": "code",
      "metadata": {
        "id": "8sbW4Sp0EfFs"
      },
      "source": [
        "!paste col1.txt col2.txt > marge_test.txt"
      ],
      "execution_count": 8,
      "outputs": []
    },
    {
      "cell_type": "code",
      "metadata": {
        "id": "HbN81KDnExVJ",
        "outputId": "5642e15f-f5d2-4520-a486-399a5c3ea7d6",
        "colab": {
          "base_uri": "https://localhost:8080/"
        }
      },
      "source": [
        "!diff -s marge_test.txt marge_1_2_file.txt"
      ],
      "execution_count": 10,
      "outputs": [
        {
          "output_type": "stream",
          "text": [
            "Files marge_test.txt and marge_1_2_file.txt are identical\n"
          ],
          "name": "stdout"
        }
      ]
    },
    {
      "cell_type": "code",
      "metadata": {
        "id": "PbNj6NIJ8Sql"
      },
      "source": [
        "# pandasを用いた方法\n",
        "import pandas as pd\n",
        "\n",
        "df = pd.read_table('./popular-names.txt', header=None, sep='\\t', names=['name', 'sex', 'number', 'year'])"
      ],
      "execution_count": 11,
      "outputs": []
    },
    {
      "cell_type": "code",
      "metadata": {
        "id": "wnkVXDxu8VzS"
      },
      "source": [
        "# pandsによる出力\n",
        "col1_pd = df['name']\n",
        "col2_pd = df['sex']\n",
        "col1_pd.to_csv('./col1_pd.txt', index=False)\n",
        "col2_pd.to_csv('./col2_pd.txt', index=False)"
      ],
      "execution_count": 12,
      "outputs": []
    },
    {
      "cell_type": "code",
      "metadata": {
        "id": "LwOOEe04Fujo"
      },
      "source": [
        "marge_pd = pd.concat([col1_pd, col2_pd], axis=1)\n",
        "marge_pd.to_csv('marge_pd.txt', sep='\\t', index=False)"
      ],
      "execution_count": 14,
      "outputs": []
    },
    {
      "cell_type": "code",
      "metadata": {
        "id": "6wiR6KzwGi0U",
        "outputId": "ab43ce68-0df2-482f-f31d-a16cdb5d9624",
        "colab": {
          "base_uri": "https://localhost:8080/"
        }
      },
      "source": [
        "!diff -s marge_test.txt marge_pd.txt"
      ],
      "execution_count": 15,
      "outputs": [
        {
          "output_type": "stream",
          "text": [
            "0a1\n",
            "> name\tsex\n"
          ],
          "name": "stdout"
        }
      ]
    }
  ]
}