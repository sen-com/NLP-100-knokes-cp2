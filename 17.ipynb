{
  "nbformat": 4,
  "nbformat_minor": 0,
  "metadata": {
    "colab": {
      "name": "17.ipynb",
      "provenance": [],
      "authorship_tag": "ABX9TyPxVdx3MvObLXa2lR0OE1vJ",
      "include_colab_link": true
    },
    "kernelspec": {
      "name": "python3",
      "display_name": "Python 3"
    }
  },
  "cells": [
    {
      "cell_type": "markdown",
      "metadata": {
        "id": "view-in-github",
        "colab_type": "text"
      },
      "source": [
        "<a href=\"https://colab.research.google.com/github/sen-com/NLP-100-knokes-cp2/blob/main/17.ipynb\" target=\"_parent\"><img src=\"https://colab.research.google.com/assets/colab-badge.svg\" alt=\"Open In Colab\"/></a>"
      ]
    },
    {
      "cell_type": "code",
      "metadata": {
        "id": "nn-oFF5e5gF8",
        "outputId": "741f4ff6-049f-4349-fe6b-0e62dde89bfc",
        "colab": {
          "base_uri": "https://localhost:8080/"
        }
      },
      "source": [
        "# 1列目の文字列の種類（異なる文字列の集合）を求めよ．確認にはcut, sort, uniqコマンドを用いよ．\n",
        "!wget https://nlp100.github.io/data/popular-names.txt"
      ],
      "execution_count": 1,
      "outputs": [
        {
          "output_type": "stream",
          "text": [
            "--2020-11-09 11:50:57--  https://nlp100.github.io/data/popular-names.txt\n",
            "Resolving nlp100.github.io (nlp100.github.io)... 185.199.111.153, 185.199.108.153, 185.199.110.153, ...\n",
            "Connecting to nlp100.github.io (nlp100.github.io)|185.199.111.153|:443... connected.\n",
            "HTTP request sent, awaiting response... 200 OK\n",
            "Length: 55026 (54K) [text/plain]\n",
            "Saving to: ‘popular-names.txt’\n",
            "\n",
            "\rpopular-names.txt     0%[                    ]       0  --.-KB/s               \rpopular-names.txt   100%[===================>]  53.74K  --.-KB/s    in 0.03s   \n",
            "\n",
            "2020-11-09 11:50:57 (2.00 MB/s) - ‘popular-names.txt’ saved [55026/55026]\n",
            "\n"
          ],
          "name": "stdout"
        }
      ]
    },
    {
      "cell_type": "code",
      "metadata": {
        "id": "fLgQdFUrKowm"
      },
      "source": [
        "import pandas as pd\n",
        "\n",
        "df = pd.read_table('popular-names.txt', header=None, sep='\\t', names=['name', 'sex', 'number', 'year'])"
      ],
      "execution_count": 2,
      "outputs": []
    },
    {
      "cell_type": "code",
      "metadata": {
        "id": "Qwt0RuMHNQBQ"
      },
      "source": [
        "with open('popular-names.txt') as file:\n",
        "  lines = file.readlines()"
      ],
      "execution_count": 3,
      "outputs": []
    },
    {
      "cell_type": "code",
      "metadata": {
        "id": "OD6tDg2_2Hzg"
      },
      "source": [
        "a.add(i for i in range(100))"
      ],
      "execution_count": 5,
      "outputs": []
    },
    {
      "cell_type": "code",
      "metadata": {
        "id": "kWMKYmRG2Y7Y",
        "outputId": "22896c7b-2e6a-4304-a946-2dd87fb07687",
        "colab": {
          "base_uri": "https://localhost:8080/"
        }
      },
      "source": [
        "for i in a:\n",
        "  print(i)"
      ],
      "execution_count": 8,
      "outputs": [
        {
          "output_type": "stream",
          "text": [
            "1\n",
            "<generator object <genexpr> at 0x7f044bde86d0>\n"
          ],
          "name": "stdout"
        }
      ]
    },
    {
      "cell_type": "code",
      "metadata": {
        "id": "uGBM5aVo2o_-"
      },
      "source": [
        "set_name = set()\n",
        "for line in lines:\n",
        "  line = line.split('\\t')\n",
        "  set_name.add(line[0])"
      ],
      "execution_count": 19,
      "outputs": []
    },
    {
      "cell_type": "code",
      "metadata": {
        "id": "stfgt8AQ3Kyw",
        "outputId": "9aa74729-24bb-4ec1-825c-170b8ce53661",
        "colab": {
          "base_uri": "https://localhost:8080/"
        }
      },
      "source": [
        "len(set_name)"
      ],
      "execution_count": 21,
      "outputs": [
        {
          "output_type": "execute_result",
          "data": {
            "text/plain": [
              "136"
            ]
          },
          "metadata": {
            "tags": []
          },
          "execution_count": 21
        }
      ]
    },
    {
      "cell_type": "code",
      "metadata": {
        "id": "Y4VkgphQ4ADa",
        "outputId": "2f921bac-0261-4059-c824-f611d8bf720e",
        "colab": {
          "base_uri": "https://localhost:8080/"
        }
      },
      "source": [
        "!cut -f 1 popular-names.txt | sort | uniq | wc -l"
      ],
      "execution_count": 22,
      "outputs": [
        {
          "output_type": "stream",
          "text": [
            "136\n"
          ],
          "name": "stdout"
        }
      ]
    }
  ]
}