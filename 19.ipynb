{
  "nbformat": 4,
  "nbformat_minor": 0,
  "metadata": {
    "colab": {
      "name": "19.ipynb",
      "provenance": [],
      "authorship_tag": "ABX9TyOxabzEbmV22oyzCAqci9MQ",
      "include_colab_link": true
    },
    "kernelspec": {
      "name": "python3",
      "display_name": "Python 3"
    }
  },
  "cells": [
    {
      "cell_type": "markdown",
      "metadata": {
        "id": "view-in-github",
        "colab_type": "text"
      },
      "source": [
        "<a href=\"https://colab.research.google.com/github/sen-com/NLP-100-knokes-cp2/blob/main/19.ipynb\" target=\"_parent\"><img src=\"https://colab.research.google.com/assets/colab-badge.svg\" alt=\"Open In Colab\"/></a>"
      ]
    },
    {
      "cell_type": "code",
      "metadata": {
        "id": "DG73751e_Lge",
        "outputId": "ce2c3ae5-0fff-4460-8918-fbe12bea3f48",
        "colab": {
          "base_uri": "https://localhost:8080/"
        }
      },
      "source": [
        "# 各行の1列目の文字列の出現頻度を求め，その高い順に並べて表示せよ．確認にはcut, uniq, sortコマンドを用いよ．\n",
        "!wget https://nlp100.github.io/data/popular-names.txt"
      ],
      "execution_count": 1,
      "outputs": [
        {
          "output_type": "stream",
          "text": [
            "--2020-11-09 12:30:54--  https://nlp100.github.io/data/popular-names.txt\n",
            "Resolving nlp100.github.io (nlp100.github.io)... 185.199.108.153, 185.199.111.153, 185.199.110.153, ...\n",
            "Connecting to nlp100.github.io (nlp100.github.io)|185.199.108.153|:443... connected.\n",
            "HTTP request sent, awaiting response... 200 OK\n",
            "Length: 55026 (54K) [text/plain]\n",
            "Saving to: ‘popular-names.txt’\n",
            "\n",
            "\rpopular-names.txt     0%[                    ]       0  --.-KB/s               \rpopular-names.txt   100%[===================>]  53.74K  --.-KB/s    in 0.01s   \n",
            "\n",
            "2020-11-09 12:30:54 (3.86 MB/s) - ‘popular-names.txt’ saved [55026/55026]\n",
            "\n"
          ],
          "name": "stdout"
        }
      ]
    },
    {
      "cell_type": "code",
      "metadata": {
        "id": "rG54_HGc_PKE"
      },
      "source": [
        "import pandas as pd\n",
        "df = pd.read_table('popular-names.txt', header=None, sep='\\t', names=['name', 'sex', 'number', 'year'])"
      ],
      "execution_count": 2,
      "outputs": []
    },
    {
      "cell_type": "code",
      "metadata": {
        "id": "asEn3t7xAI0n",
        "outputId": "929e5861-db7e-4393-859a-cffa61dd143a",
        "colab": {
          "base_uri": "https://localhost:8080/"
        }
      },
      "source": [
        "print(df['name'].value_counts())"
      ],
      "execution_count": 3,
      "outputs": [
        {
          "output_type": "stream",
          "text": [
            "James      118\n",
            "William    111\n",
            "Robert     108\n",
            "John       108\n",
            "Mary        92\n",
            "          ... \n",
            "Walter       1\n",
            "Tracy        1\n",
            "Julie        1\n",
            "Carolyn      1\n",
            "Lori         1\n",
            "Name: name, Length: 136, dtype: int64\n"
          ],
          "name": "stdout"
        }
      ]
    },
    {
      "cell_type": "code",
      "metadata": {
        "id": "zM_hI1irAUzE"
      },
      "source": [
        "!cut -f 1 popular-names.txt | sort | uniq -c | sort -rn"
      ],
      "execution_count": null,
      "outputs": []
    },
    {
      "cell_type": "code",
      "metadata": {
        "id": "aye20k9gGUZl"
      },
      "source": [
        "from collections import Counter"
      ],
      "execution_count": 14,
      "outputs": []
    },
    {
      "cell_type": "code",
      "metadata": {
        "id": "ruOk8-2TIbE5",
        "outputId": "a109fd13-1722-44e1-de59-e4112edcbecc",
        "colab": {
          "base_uri": "https://localhost:8080/"
        }
      },
      "source": [
        "cnt = Counter()\n",
        "with open('popular-names.txt') as f:\n",
        "    for line in f:\n",
        "        name = line.split('\\t')[0]\n",
        "        cnt.update([name])\n",
        "\n",
        "lst = cnt.most_common()\n",
        "lst.sort(key=lambda x:(-x[1], x[0]))\n",
        "\n",
        "for name, num in lst[:10]:\n",
        "    print(name)\n"
      ],
      "execution_count": 15,
      "outputs": [
        {
          "output_type": "stream",
          "text": [
            "James\n",
            "William\n",
            "John\n",
            "Robert\n",
            "Mary\n",
            "Charles\n",
            "Michael\n",
            "Elizabeth\n",
            "Joseph\n",
            "Margaret\n"
          ],
          "name": "stdout"
        }
      ]
    }
  ]
}