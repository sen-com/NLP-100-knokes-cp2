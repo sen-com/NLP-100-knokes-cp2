{
  "nbformat": 4,
  "nbformat_minor": 0,
  "metadata": {
    "colab": {
      "name": "16.ipynb",
      "provenance": [],
      "authorship_tag": "ABX9TyP8Lx/05vpctvWjpTg+ZgUn",
      "include_colab_link": true
    },
    "kernelspec": {
      "name": "python3",
      "display_name": "Python 3"
    }
  },
  "cells": [
    {
      "cell_type": "markdown",
      "metadata": {
        "id": "view-in-github",
        "colab_type": "text"
      },
      "source": [
        "<a href=\"https://colab.research.google.com/github/sen-com/NLP-100-knokes-cp2/blob/main/16.ipynb\" target=\"_parent\"><img src=\"https://colab.research.google.com/assets/colab-badge.svg\" alt=\"Open In Colab\"/></a>"
      ]
    },
    {
      "cell_type": "code",
      "metadata": {
        "id": "nn-oFF5e5gF8",
        "outputId": "25e0f65a-e8f1-4f38-c9fb-9b5375278a38",
        "colab": {
          "base_uri": "https://localhost:8080/"
        }
      },
      "source": [
        "# 自然数Nをコマンドライン引数などの手段で受け取り，入力のファイルを行単位でN分割せよ．同様の処理をsplitコマンドで実現せよ．\n",
        "!wget https://nlp100.github.io/data/popular-names.txt"
      ],
      "execution_count": 1,
      "outputs": [
        {
          "output_type": "stream",
          "text": [
            "--2020-11-09 10:16:33--  https://nlp100.github.io/data/popular-names.txt\n",
            "Resolving nlp100.github.io (nlp100.github.io)... 185.199.108.153, 185.199.109.153, 185.199.110.153, ...\n",
            "Connecting to nlp100.github.io (nlp100.github.io)|185.199.108.153|:443... connected.\n",
            "HTTP request sent, awaiting response... 200 OK\n",
            "Length: 55026 (54K) [text/plain]\n",
            "Saving to: ‘popular-names.txt’\n",
            "\n",
            "\rpopular-names.txt     0%[                    ]       0  --.-KB/s               \rpopular-names.txt   100%[===================>]  53.74K  --.-KB/s    in 0.02s   \n",
            "\n",
            "2020-11-09 10:16:33 (3.41 MB/s) - ‘popular-names.txt’ saved [55026/55026]\n",
            "\n"
          ],
          "name": "stdout"
        }
      ]
    },
    {
      "cell_type": "code",
      "metadata": {
        "id": "fLgQdFUrKowm"
      },
      "source": [
        "import pandas as pd\n",
        "\n",
        "df = pd.read_table('popular-names.txt', header=None, sep='\\t', names=['name', 'sex', 'number', 'year'])"
      ],
      "execution_count": 2,
      "outputs": []
    },
    {
      "cell_type": "code",
      "metadata": {
        "id": "Qwt0RuMHNQBQ"
      },
      "source": [
        "with open('popular-names.txt') as file:\n",
        "  lines = file.readlines()"
      ],
      "execution_count": 3,
      "outputs": []
    },
    {
      "cell_type": "code",
      "metadata": {
        "id": "I6O4u4l9Nt0D",
        "outputId": "909ad21e-0551-4981-b368-8f8dbcb00faf",
        "colab": {
          "base_uri": "https://localhost:8080/"
        }
      },
      "source": [
        "import math \n",
        "n = int(input('N-->'))\n",
        "count= len(lines)\n",
        "unit = math.ceil(count/n)\n",
        "# デフォルトだとenumerate()関数のインデックスは0から始まる。\n",
        "# 0以外の数値から開始したい場合は、enumerate()関数の第二引数に任意の開始数値を指定する。\n",
        "for i, offset in enumerate(range(0, count, unit), 1):\n",
        "  with open('child_{:02d}.txt'.format(i), mode='w') as out_file:\n",
        "    for line in lines[offset:offset+unit]:\n",
        "      out_file.write(line)\n",
        "  "
      ],
      "execution_count": 8,
      "outputs": [
        {
          "output_type": "stream",
          "text": [
            "N-->10\n"
          ],
          "name": "stdout"
        }
      ]
    },
    {
      "cell_type": "code",
      "metadata": {
        "id": "GwVEExOtxUSV",
        "outputId": "9fc36d53-8ece-4966-9c12-b792e127205e",
        "colab": {
          "base_uri": "https://localhost:8080/"
        }
      },
      "source": [
        ""
      ],
      "execution_count": 9,
      "outputs": [
        {
          "output_type": "execute_result",
          "data": {
            "text/plain": [
              "RangeIndex(start=0, stop=2780, step=1)"
            ]
          },
          "metadata": {
            "tags": []
          },
          "execution_count": 9
        }
      ]
    },
    {
      "cell_type": "code",
      "metadata": {
        "id": "dD3BTOp3wR8T",
        "outputId": "801aa2c6-b1c0-4d97-f006-4a84b4fb9740",
        "colab": {
          "base_uri": "https://localhost:8080/"
        }
      },
      "source": [
        "def split_file(N):\n",
        "  # インデックス番号の初期化\n",
        "  tmp = df.reset_index(drop=False)\n",
        "  df_cut = pd.qcut(tmp.index, N, labels=[i for i in range(N)])\n",
        "  df_cut =pd.concat([df, pd.Series(df_cut, name='sp')], axis=1)\n",
        "\n",
        "  return df_cut\n",
        "\n",
        "df_cut = split_file(10)\n",
        "print(df_cut)"
      ],
      "execution_count": 14,
      "outputs": [
        {
          "output_type": "stream",
          "text": [
            "           name sex  number  year sp\n",
            "0          Mary   F    7065  1880  0\n",
            "1          Anna   F    2604  1880  0\n",
            "2          Emma   F    2003  1880  0\n",
            "3     Elizabeth   F    1939  1880  0\n",
            "4        Minnie   F    1746  1880  0\n",
            "...         ...  ..     ...   ... ..\n",
            "2775   Benjamin   M   13381  2018  9\n",
            "2776     Elijah   M   12886  2018  9\n",
            "2777      Lucas   M   12585  2018  9\n",
            "2778      Mason   M   12435  2018  9\n",
            "2779      Logan   M   12352  2018  9\n",
            "\n",
            "[2780 rows x 5 columns]\n"
          ],
          "name": "stdout"
        }
      ]
    },
    {
      "cell_type": "code",
      "metadata": {
        "id": "VcjfaZ6lzUHX"
      },
      "source": [
        "!split -l 200 -d popular-names.txt sp"
      ],
      "execution_count": 15,
      "outputs": []
    }
  ]
}