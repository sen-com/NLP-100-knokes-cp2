{
  "nbformat": 4,
  "nbformat_minor": 0,
  "metadata": {
    "colab": {
      "name": "12.ipynb",
      "provenance": [],
      "authorship_tag": "ABX9TyOpUPqSVA1/0fkgdnNBMPvM",
      "include_colab_link": true
    },
    "kernelspec": {
      "name": "python3",
      "display_name": "Python 3"
    }
  },
  "cells": [
    {
      "cell_type": "markdown",
      "metadata": {
        "id": "view-in-github",
        "colab_type": "text"
      },
      "source": [
        "<a href=\"https://colab.research.google.com/github/sen-com/NLP-100-knokes-cp2/blob/main/12.ipynb\" target=\"_parent\"><img src=\"https://colab.research.google.com/assets/colab-badge.svg\" alt=\"Open In Colab\"/></a>"
      ]
    },
    {
      "cell_type": "code",
      "metadata": {
        "id": "nn-oFF5e5gF8",
        "outputId": "e4a525b4-b50d-4d87-da5b-92d976f261b7",
        "colab": {
          "base_uri": "https://localhost:8080/"
        }
      },
      "source": [
        "# 各行の1列目だけを抜き出したものをcol1.txtに，2列目だけを抜き出したものをcol2.txtとしてファイルに保存せよ．確認にはcutコマンドを用いよ．\n",
        "!wget https://nlp100.github.io/data/popular-names.txt"
      ],
      "execution_count": 1,
      "outputs": [
        {
          "output_type": "stream",
          "text": [
            "--2020-11-09 07:27:08--  https://nlp100.github.io/data/popular-names.txt\n",
            "Resolving nlp100.github.io (nlp100.github.io)... 185.199.111.153, 185.199.109.153, 185.199.108.153, ...\n",
            "Connecting to nlp100.github.io (nlp100.github.io)|185.199.111.153|:443... connected.\n",
            "HTTP request sent, awaiting response... 200 OK\n",
            "Length: 55026 (54K) [text/plain]\n",
            "Saving to: ‘popular-names.txt’\n",
            "\n",
            "popular-names.txt   100%[===================>]  53.74K  --.-KB/s    in 0.03s   \n",
            "\n",
            "2020-11-09 07:27:08 (1.99 MB/s) - ‘popular-names.txt’ saved [55026/55026]\n",
            "\n"
          ],
          "name": "stdout"
        }
      ]
    },
    {
      "cell_type": "code",
      "metadata": {
        "id": "hZnFG9sN53HQ"
      },
      "source": [
        "with open('popular-names.txt') as file, \\\n",
        "  open('col1.txt', mode='w') as col1_file, \\\n",
        "  open('col2.txt', mode='w') as col2_file:\n",
        "  for lines in file:\n",
        "    cols = lines.split('\\t')\n",
        "    col1_file.write(cols[0] + '\\n')\n",
        "    col2_file.write(cols[1] + '\\n')"
      ],
      "execution_count": 9,
      "outputs": []
    },
    {
      "cell_type": "code",
      "metadata": {
        "id": "PbNj6NIJ8Sql"
      },
      "source": [
        "import pandas as pd\n",
        "\n",
        "df = pd.read_table('./popular-names.txt', header=None, sep='\\t', names=['name', 'sex', 'number', 'year'])"
      ],
      "execution_count": 12,
      "outputs": []
    },
    {
      "cell_type": "code",
      "metadata": {
        "id": "wnkVXDxu8VzS"
      },
      "source": [
        "# pandsによる出力\n",
        "col1_pd = df['name']\n",
        "col2_pd = df['sex']\n",
        "col1_pd.to_csv('./col1_pd.txt', index=False)\n",
        "col2_pd.to_csv('./col2_pd.txt', index=False)"
      ],
      "execution_count": 14,
      "outputs": []
    },
    {
      "cell_type": "code",
      "metadata": {
        "id": "wu8e8buA9wRV"
      },
      "source": [
        "!cut -f 1 popular-names.txt > col1_test.txt"
      ],
      "execution_count": 21,
      "outputs": []
    },
    {
      "cell_type": "code",
      "metadata": {
        "id": "cvX-7hJ5_VuQ"
      },
      "source": [
        "!diff col1.txt col1_test.txt "
      ],
      "execution_count": 18,
      "outputs": []
    },
    {
      "cell_type": "code",
      "metadata": {
        "id": "40YKl7fX_2i9"
      },
      "source": [
        "!cut -f 2 popular-names.txt > col2_test.txt"
      ],
      "execution_count": 20,
      "outputs": []
    },
    {
      "cell_type": "code",
      "metadata": {
        "id": "coCz52Cc_6TA"
      },
      "source": [
        "!diff col2.txt col2_test.txt"
      ],
      "execution_count": 23,
      "outputs": []
    },
    {
      "cell_type": "code",
      "metadata": {
        "id": "FJRpsgS9AWyi",
        "outputId": "e74a14e4-4500-42b3-ac82-2db2b9ecae8e",
        "colab": {
          "base_uri": "https://localhost:8080/"
        }
      },
      "source": [
        "# pandasの確認\n",
        "!diff col1_pd.txt col1_test.txt"
      ],
      "execution_count": 25,
      "outputs": [
        {
          "output_type": "stream",
          "text": [
            "1d0\n",
            "< name\n"
          ],
          "name": "stdout"
        }
      ]
    }
  ]
}